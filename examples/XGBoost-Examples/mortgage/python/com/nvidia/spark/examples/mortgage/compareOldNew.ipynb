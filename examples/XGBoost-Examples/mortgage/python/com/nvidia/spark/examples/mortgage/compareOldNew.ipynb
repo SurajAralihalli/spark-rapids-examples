{
 "cells": [
  {
   "cell_type": "code",
   "execution_count": 1,
   "id": "0b8dd9a0",
   "metadata": {},
   "outputs": [],
   "source": [
    "from pyspark import broadcast\n",
    "from pyspark.sql import SparkSession\n",
    "from pyspark.sql.functions import *\n",
    "from pyspark.sql.types import *\n",
    "from pyspark.sql.window import Window"
   ]
  },
  {
   "cell_type": "code",
   "execution_count": 2,
   "id": "655c4842",
   "metadata": {},
   "outputs": [],
   "source": [
    "# perfOld = spark.read.option(\"header\",True).csv(\"/local/saralihalli/HOME/rapidsMortgage/output/scalaSparkSubmit/perf/\")\n",
    "# acqOld = spark.read.option(\"header\",True).csv(\"/local/saralihalli/HOME/rapidsMortgage/output/scalaSparkSubmit/acq/\")\n",
    "\n",
    "\n",
    "perfOld = spark.read.parquet(\"/local/saralihalli/HOME/rapidsMortgage/output/scalaSparkSubmit/perf/\")\n",
    "acqOld = spark.read.parquet(\"/local/saralihalli/HOME/rapidsMortgage/output/scalaSparkSubmit/acq/\")\n"
   ]
  },
  {
   "cell_type": "code",
   "execution_count": 3,
   "id": "7ba69dde",
   "metadata": {},
   "outputs": [],
   "source": [
    "perfNew = spark.read.parquet(\"/local/saralihalli/HOME/output/scalaSparkSubmit/perf/\")\n",
    "acqNew = spark.read.parquet(\"/local/saralihalli/HOME/output/scalaSparkSubmit/acq/\")\n"
   ]
  },
  {
   "cell_type": "code",
   "execution_count": 4,
   "id": "21a41c09",
   "metadata": {},
   "outputs": [
    {
     "data": {
      "text/plain": [
       "True"
      ]
     },
     "execution_count": 4,
     "metadata": {},
     "output_type": "execute_result"
    }
   ],
   "source": [
    "perfOld.dtypes == perfNew.dtypes"
   ]
  },
  {
   "cell_type": "code",
   "execution_count": 5,
   "id": "cde0cb20",
   "metadata": {},
   "outputs": [
    {
     "data": {
      "text/plain": [
       "True"
      ]
     },
     "execution_count": 5,
     "metadata": {},
     "output_type": "execute_result"
    }
   ],
   "source": [
    "perfOld.columns == perfNew.columns"
   ]
  },
  {
   "cell_type": "code",
   "execution_count": 6,
   "id": "30bab162",
   "metadata": {},
   "outputs": [],
   "source": [
    "for col in perfNew.columns:\n",
    "    perfOld = perfOld.withColumnRenamed(col, col + \"_old\")"
   ]
  },
  {
   "cell_type": "code",
   "execution_count": 7,
   "id": "5542ff33",
   "metadata": {},
   "outputs": [
    {
     "data": {
      "text/plain": [
       "DataFrame[loan_id_old: bigint, monthly_reporting_period_old: string, servicer_old: string, interest_rate_old: double, current_actual_upb_old: double, loan_age_old: double, remaining_months_to_legal_maturity_old: double, adj_remaining_months_to_maturity_old: double, maturity_date_old: string, msa_old: double, current_loan_delinquency_status_old: int, mod_flag_old: string, zero_balance_code_old: string, zero_balance_effective_date_old: string, last_paid_installment_date_old: string, foreclosed_after_old: string, disposition_date_old: string, foreclosure_costs_old: double, prop_preservation_and_repair_costs_old: double, asset_recovery_costs_old: double, misc_holding_expenses_old: double, holding_taxes_old: double, net_sale_proceeds_old: double, credit_enhancement_proceeds_old: double, repurchase_make_whole_proceeds_old: string, other_foreclosure_proceeds_old: double, non_interest_bearing_upb_old: double, principal_forgiveness_upb_old: string, repurchase_make_whole_proceeds_flag_old: string, foreclosure_principal_write_off_amount_old: string, servicing_activity_indicator_old: string, quarter_old: string]"
      ]
     },
     "execution_count": 7,
     "metadata": {},
     "output_type": "execute_result"
    }
   ],
   "source": [
    "perfOld"
   ]
  },
  {
   "cell_type": "code",
   "execution_count": 8,
   "id": "2c05c85f",
   "metadata": {},
   "outputs": [],
   "source": [
    "perf = perfOld.join(perfNew, [perfOld[\"loan_id_old\"] == perfNew[\"loan_id\"], perfOld[\"monthly_reporting_period_old\"] == perfNew[\"monthly_reporting_period\"]],\"right\")\n",
    "\n",
    "\n",
    "\n"
   ]
  },
  {
   "cell_type": "code",
   "execution_count": 9,
   "id": "1f59dde7",
   "metadata": {},
   "outputs": [],
   "source": [
    "from pyspark.sql.functions import col\n",
    "for colN in perfNew.columns:\n",
    "    perf = perf.withColumn(colN + \"_match\", when( (col(colN).isNull() & col(colN + \"_old\").isNull())  | (col(colN) == col(colN + \"_old\")), 0).otherwise(1) )"
   ]
  },
  {
   "cell_type": "code",
   "execution_count": 10,
   "id": "e43f6973",
   "metadata": {},
   "outputs": [
    {
     "data": {
      "text/plain": [
       "DataFrame[loan_id_old: bigint, monthly_reporting_period_old: string, servicer_old: string, interest_rate_old: double, current_actual_upb_old: double, loan_age_old: double, remaining_months_to_legal_maturity_old: double, adj_remaining_months_to_maturity_old: double, maturity_date_old: string, msa_old: double, current_loan_delinquency_status_old: int, mod_flag_old: string, zero_balance_code_old: string, zero_balance_effective_date_old: string, last_paid_installment_date_old: string, foreclosed_after_old: string, disposition_date_old: string, foreclosure_costs_old: double, prop_preservation_and_repair_costs_old: double, asset_recovery_costs_old: double, misc_holding_expenses_old: double, holding_taxes_old: double, net_sale_proceeds_old: double, credit_enhancement_proceeds_old: double, repurchase_make_whole_proceeds_old: string, other_foreclosure_proceeds_old: double, non_interest_bearing_upb_old: double, principal_forgiveness_upb_old: string, repurchase_make_whole_proceeds_flag_old: string, foreclosure_principal_write_off_amount_old: string, servicing_activity_indicator_old: string, quarter_old: string, loan_id: bigint, monthly_reporting_period: string, servicer: string, interest_rate: double, current_actual_upb: double, loan_age: double, remaining_months_to_legal_maturity: double, adj_remaining_months_to_maturity: double, maturity_date: string, msa: double, current_loan_delinquency_status: int, mod_flag: string, zero_balance_code: string, zero_balance_effective_date: string, last_paid_installment_date: string, foreclosed_after: string, disposition_date: string, foreclosure_costs: double, prop_preservation_and_repair_costs: double, asset_recovery_costs: double, misc_holding_expenses: double, holding_taxes: double, net_sale_proceeds: double, credit_enhancement_proceeds: double, repurchase_make_whole_proceeds: string, other_foreclosure_proceeds: double, non_interest_bearing_upb: double, principal_forgiveness_upb: string, repurchase_make_whole_proceeds_flag: string, foreclosure_principal_write_off_amount: string, servicing_activity_indicator: string, quarter: string, loan_id_match: int, monthly_reporting_period_match: int, servicer_match: int, interest_rate_match: int, current_actual_upb_match: int, loan_age_match: int, remaining_months_to_legal_maturity_match: int, adj_remaining_months_to_maturity_match: int, maturity_date_match: int, msa_match: int, current_loan_delinquency_status_match: int, mod_flag_match: int, zero_balance_code_match: int, zero_balance_effective_date_match: int, last_paid_installment_date_match: int, foreclosed_after_match: int, disposition_date_match: int, foreclosure_costs_match: int, prop_preservation_and_repair_costs_match: int, asset_recovery_costs_match: int, misc_holding_expenses_match: int, holding_taxes_match: int, net_sale_proceeds_match: int, credit_enhancement_proceeds_match: int, repurchase_make_whole_proceeds_match: int, other_foreclosure_proceeds_match: int, non_interest_bearing_upb_match: int, principal_forgiveness_upb_match: int, repurchase_make_whole_proceeds_flag_match: int, foreclosure_principal_write_off_amount_match: int, servicing_activity_indicator_match: int, quarter_match: int]"
      ]
     },
     "execution_count": 10,
     "metadata": {},
     "output_type": "execute_result"
    }
   ],
   "source": [
    "perf"
   ]
  },
  {
   "cell_type": "code",
   "execution_count": 11,
   "id": "8d188875",
   "metadata": {},
   "outputs": [
    {
     "name": "stdout",
     "output_type": "stream",
     "text": [
      "current_loan_delinquency_status [Row(sum(current_loan_delinquency_status_match)=244599)]\n",
      "current_actual_upb [Row(sum(current_actual_upb_match)=1712714)]\n",
      "interest_rate [Row(sum(interest_rate_match)=244659)]\n",
      "msa [Row(sum(msa_match)=0)]\n",
      "non_interest_bearing_upb [Row(sum(non_interest_bearing_upb_match)=0)]\n"
     ]
    }
   ],
   "source": [
    "finalPerfColumns = ['current_loan_delinquency_status', 'current_actual_upb', 'interest_rate' , 'msa' , 'non_interest_bearing_upb']\n",
    "for colN in finalPerfColumns:\n",
    "    print(colN, perf.filter(col('loan_id_old').isNotNull()).select(sum(colN + '_match')).collect())\n",
    "    \n",
    "    \n",
    "    \n",
    "    \n",
    "    "
   ]
  },
  {
   "cell_type": "markdown",
   "id": "b0bf7d1d",
   "metadata": {},
   "source": [
    "loan_id [Row(sum(loan_id_match)=94894)]\n",
    "monthly_reporting_period [Row(sum(monthly_reporting_period_match)=94894)]\n",
    "servicer [Row(sum(servicer_match)=9005257)]\n",
    "interest_rate [Row(sum(interest_rate_match)=338282)]\n",
    "current_actual_upb [Row(sum(current_actual_upb_match)=1807608)]\n",
    "loan_age [Row(sum(loan_age_match)=337884)]\n",
    "remaining_months_to_legal_maturity [Row(sum(remaining_months_to_legal_maturity_match)=338177)]\n",
    "adj_remaining_months_to_maturity [Row(sum(adj_remaining_months_to_maturity_match)=322512)]\n",
    "maturity_date [Row(sum(maturity_date_match)=337813)]\n",
    "msa [Row(sum(msa_match)=94894)]\n",
    "current_loan_delinquency_status [Row(sum(current_loan_delinquency_status_match)=338778)]\n",
    "mod_flag [Row(sum(mod_flag_match)=337908)]\n",
    "zero_balance_code [Row(sum(zero_balance_code_match)=8851689)]\n",
    "zero_balance_effective_date [Row(sum(zero_balance_effective_date_match)=1408)]\n",
    "last_paid_installment_date [Row(sum(last_paid_installment_date_match)=90)]\n",
    "foreclosed_after [Row(sum(foreclosed_after_match)=169)]\n",
    "disposition_date [Row(sum(disposition_date_match)=195)]\n",
    "foreclosure_costs [Row(sum(foreclosure_costs_match)=187)]\n",
    "prop_preservation_and_repair_costs [Row(sum(prop_preservation_and_repair_costs_match)=179)]\n",
    "asset_recovery_costs [Row(sum(asset_recovery_costs_match)=339)]\n",
    "misc_holding_expenses [Row(sum(misc_holding_expenses_match)=157)]\n",
    "holding_taxes [Row(sum(holding_taxes_match)=159)]\n",
    "net_sale_proceeds [Row(sum(net_sale_proceeds_match)=115)]\n",
    "credit_enhancement_proceeds [Row(sum(credit_enhancement_proceeds_match)=453)]\n",
    "repurchase_make_whole_proceeds [Row(sum(repurchase_make_whole_proceeds_match)=566)]\n",
    "other_foreclosure_proceeds [Row(sum(other_foreclosure_proceeds_match)=242)]\n",
    "non_interest_bearing_upb [Row(sum(non_interest_bearing_upb_match)=15386)]\n",
    "principal_forgiveness_upb [Row(sum(principal_forgiveness_upb_match)=7588)]\n",
    "repurchase_make_whole_proceeds_flag [Row(sum(repurchase_make_whole_proceeds_flag_match)=8852008)]\n",
    "foreclosure_principal_write_off_amount [Row(sum(foreclosure_principal_write_off_amount_match)=5079)]\n",
    "servicing_activity_indicator [Row(sum(servicing_activity_indicator_match)=8389520)]\n",
    "quarter [Row(sum(quarter_match)=94894)]\n"
   ]
  },
  {
   "cell_type": "code",
   "execution_count": 12,
   "id": "8ebedeb7",
   "metadata": {},
   "outputs": [
    {
     "name": "stdout",
     "output_type": "stream",
     "text": [
      "+----------------------------+-----------+--------+\n",
      "|monthly_reporting_period_old|loan_id_old|count(1)|\n",
      "+----------------------------+-----------+--------+\n",
      "+----------------------------+-----------+--------+\n",
      "\n"
     ]
    }
   ],
   "source": [
    "perfOld.groupBy([\"monthly_reporting_period_old\",\"loan_id_old\"]).agg(count(\"*\")).where(\"count(1) > 1\").show()"
   ]
  },
  {
   "cell_type": "code",
   "execution_count": 13,
   "id": "75797453",
   "metadata": {},
   "outputs": [
    {
     "ename": "SyntaxError",
     "evalue": "keyword can't be an expression (<ipython-input-13-74d0e979bf23>, line 1)",
     "output_type": "error",
     "traceback": [
      "\u001b[0;36m  File \u001b[0;32m\"<ipython-input-13-74d0e979bf23>\"\u001b[0;36m, line \u001b[0;32m1\u001b[0m\n\u001b[0;31m    current_loan_delinquency_status [Row(sum(current_loan_delinquency_status_match)=338778)]\u001b[0m\n\u001b[0m                                        ^\u001b[0m\n\u001b[0;31mSyntaxError\u001b[0m\u001b[0;31m:\u001b[0m keyword can't be an expression\n"
     ]
    }
   ],
   "source": [
    "current_loan_delinquency_status [Row(sum(current_loan_delinquency_status_match)=338778)]\n"
   ]
  },
  {
   "cell_type": "code",
   "execution_count": null,
   "id": "25738c95",
   "metadata": {},
   "outputs": [],
   "source": [
    "# perf.where(col('loan_id_old').isNotNull()).show()"
   ]
  },
  {
   "cell_type": "code",
   "execution_count": null,
   "id": "3b1bb076",
   "metadata": {},
   "outputs": [],
   "source": [
    "perf.filter(col('loan_id_old').isNotNull()).select(['loan_id','current_loan_delinquency_status', 'current_loan_delinquency_status_old']).where('current_loan_delinquency_status_match = 1').show()\n",
    "perf.filter(col('loan_id_old').isNotNull()).select(['loan_id','current_actual_upb', 'current_actual_upb_old']).where('current_actual_upb_match = 1').show()\n",
    "perf.filter(col('loan_id_old').isNotNull()).select(['loan_id','interest_rate', 'interest_rate_old']).where('interest_rate_match = 1').show()\n",
    "# perf.filter(col('loan_id_old').isNotNull()).select(['loan_id','msa', 'msa_old']).where('msa_match = 1').show()\n",
    "# perf.filter(col('loan_id_old').isNotNull()).select(['loan_id','non_interest_bearing_upb', 'non_interest_bearing_upb_old']).where('non_interest_bearing_upb_match = 1').show()\n",
    "\n"
   ]
  },
  {
   "cell_type": "code",
   "execution_count": null,
   "id": "95447df2",
   "metadata": {},
   "outputs": [],
   "source": [
    "perf.filter(col('loan_id_old').isNotNull()).select(['loan_id','current_loan_delinquency_status', 'current_loan_delinquency_status_old']).where('current_loan_delinquency_status_match = 1').where('current_loan_delinquency_status = 0').show()\n",
    "\n",
    "\n"
   ]
  },
  {
   "cell_type": "code",
   "execution_count": null,
   "id": "9b990dc8",
   "metadata": {},
   "outputs": [],
   "source": [
    "perf.select(['loan_id','loan_id_old','interest_rate', 'interest_rate_old', 'interest_rate_match']).where('loan_id = 803738209951').distinct().show()\n"
   ]
  },
  {
   "cell_type": "code",
   "execution_count": null,
   "id": "92892ced",
   "metadata": {},
   "outputs": [],
   "source": [
    "perf.select(['loan_id','loan_id_old','interest_rate', 'interest_rate_old']).where('loan_id = 803738209951').distinct().show()\n"
   ]
  },
  {
   "cell_type": "code",
   "execution_count": 40,
   "id": "f011bacf",
   "metadata": {},
   "outputs": [
    {
     "name": "stdout",
     "output_type": "stream",
     "text": [
      "+-------------------------------+-------+\n",
      "|current_loan_delinquency_status|  count|\n",
      "+-------------------------------+-------+\n",
      "|                              0|6975787|\n",
      "|                              1| 238655|\n",
      "|                              2|  55980|\n",
      "|                              3|  22019|\n",
      "|                              4|  14608|\n",
      "|                              5|  11265|\n",
      "|                              6|   9269|\n",
      "|                              7|   7543|\n",
      "|                              8|   6191|\n",
      "|                              9|   5111|\n",
      "|                             10|   4324|\n",
      "|                             11|   3767|\n",
      "|                             12|   3194|\n",
      "|                             13|   2616|\n",
      "|                             14|   2214|\n",
      "|                             15|   1899|\n",
      "|                             16|   1720|\n",
      "|                             17|   1448|\n",
      "|                             18|   1306|\n",
      "|                             19|   1124|\n",
      "|                             20|    996|\n",
      "|                             21|    893|\n",
      "|                             22|    795|\n",
      "|                             23|    695|\n",
      "|                             24|    634|\n",
      "|                             25|    606|\n",
      "|                             26|    513|\n",
      "|                             27|    465|\n",
      "|                             28|    431|\n",
      "|                             29|    383|\n",
      "|                             30|    359|\n",
      "|                             31|    339|\n",
      "|                             32|    323|\n",
      "|                             33|    292|\n",
      "|                             34|    260|\n",
      "|                             35|    232|\n",
      "|                             36|    215|\n",
      "|                             37|    212|\n",
      "|                             38|    205|\n",
      "|                             39|    185|\n",
      "|                             40|    164|\n",
      "|                             41|    162|\n",
      "|                             99|    157|\n",
      "|                             43|    150|\n",
      "|                             42|    143|\n",
      "|                             44|    125|\n",
      "|                             45|    119|\n",
      "|                             46|    107|\n",
      "|                             47|    103|\n",
      "|                             48|     91|\n",
      "|                             49|     87|\n",
      "|                             50|     82|\n",
      "|                             51|     75|\n",
      "|                             53|     68|\n",
      "|                             52|     67|\n",
      "|                             54|     57|\n",
      "|                             55|     51|\n",
      "|                             57|     50|\n",
      "|                             56|     47|\n",
      "|                             59|     43|\n",
      "|                             58|     43|\n",
      "|                             60|     41|\n",
      "|                             61|     40|\n",
      "|                             62|     40|\n",
      "|                             63|     39|\n",
      "|                             65|     38|\n",
      "|                             64|     38|\n",
      "|                             67|     35|\n",
      "|                             66|     33|\n",
      "|                             70|     31|\n",
      "|                             68|     31|\n",
      "|                             69|     29|\n",
      "|                             72|     28|\n",
      "|                             73|     27|\n",
      "|                             71|     27|\n",
      "|                             74|     26|\n",
      "|                             75|     25|\n",
      "|                             76|     22|\n",
      "|                             77|     21|\n",
      "|                             78|     20|\n",
      "|                             81|     20|\n",
      "|                             80|     20|\n",
      "|                             79|     20|\n",
      "|                             82|     19|\n",
      "|                             85|     18|\n",
      "|                             86|     18|\n",
      "|                             84|     18|\n",
      "|                             83|     18|\n",
      "|                             87|     17|\n",
      "|                             88|     16|\n",
      "|                             89|     15|\n",
      "|                             91|     14|\n",
      "|                             90|     14|\n",
      "|                             92|     12|\n",
      "|                             93|     11|\n",
      "|                             94|     11|\n",
      "|                             96|     11|\n",
      "|                             97|     11|\n",
      "|                             95|     11|\n",
      "|                             98|     11|\n",
      "+-------------------------------+-------+\n",
      "only showing top 100 rows\n",
      "\n",
      "+-----------------------------------+-------+\n",
      "|current_loan_delinquency_status_old|  count|\n",
      "+-----------------------------------+-------+\n",
      "|                                  0|6975787|\n",
      "|                                  1| 238655|\n",
      "|                                  2|  55980|\n",
      "|                                  3|  22019|\n",
      "|                                  4|  14608|\n",
      "|                                  5|  11265|\n",
      "|                                  6|   9269|\n",
      "|                                  7|   7543|\n",
      "|                                  8|   6191|\n",
      "|                                  9|   5111|\n",
      "|                                 10|   4324|\n",
      "|                                 11|   3767|\n",
      "|                                 12|   3194|\n",
      "|                                 13|   2616|\n",
      "|                                 14|   2214|\n",
      "|                                 15|   1899|\n",
      "|                                 16|   1720|\n",
      "|                                 17|   1448|\n",
      "|                                 18|   1306|\n",
      "|                                 19|   1124|\n",
      "|                                 20|    996|\n",
      "|                                 21|    893|\n",
      "|                                 22|    795|\n",
      "|                                 23|    695|\n",
      "|                                 24|    634|\n",
      "|                                 25|    606|\n",
      "|                                 26|    513|\n",
      "|                                 27|    465|\n",
      "|                                 28|    431|\n",
      "|                                 29|    383|\n",
      "|                                 30|    359|\n",
      "|                                 31|    339|\n",
      "|                                 32|    323|\n",
      "|                                 33|    292|\n",
      "|                                 34|    260|\n",
      "|                                 35|    232|\n",
      "|                                 36|    215|\n",
      "|                                 37|    212|\n",
      "|                                 38|    205|\n",
      "|                                 39|    185|\n",
      "|                                 40|    164|\n",
      "|                                 41|    162|\n",
      "|                                 43|    150|\n",
      "|                                 42|    143|\n",
      "|                                 44|    125|\n",
      "|                                 45|    119|\n",
      "|                                 46|    107|\n",
      "|                                 47|    103|\n",
      "|                                 48|     91|\n",
      "|                                 49|     87|\n",
      "|                                 50|     82|\n",
      "|                                 51|     75|\n",
      "|                                 53|     68|\n",
      "|                                 52|     67|\n",
      "|                                 54|     57|\n",
      "|                                 55|     51|\n",
      "|                                 57|     50|\n",
      "|                                 56|     47|\n",
      "|                                 59|     43|\n",
      "|                                 58|     43|\n",
      "|                                 60|     41|\n",
      "|                                 61|     40|\n",
      "|                                 62|     40|\n",
      "|                                 63|     39|\n",
      "|                                 65|     38|\n",
      "|                                 64|     38|\n",
      "|                                 67|     35|\n",
      "|                                 66|     33|\n",
      "|                                 70|     31|\n",
      "|                                 68|     31|\n",
      "|                                 69|     29|\n",
      "|                                 72|     28|\n",
      "|                                 73|     27|\n",
      "|                                 71|     27|\n",
      "|                                 74|     26|\n",
      "|                                 75|     25|\n",
      "|                                 76|     22|\n",
      "|                                 77|     21|\n",
      "|                                 78|     20|\n",
      "|                                 81|     20|\n",
      "|                                 80|     20|\n",
      "|                                 79|     20|\n",
      "|                                 82|     19|\n",
      "|                                 85|     18|\n",
      "|                                 86|     18|\n",
      "|                                 84|     18|\n",
      "|                                 83|     18|\n",
      "|                                 87|     17|\n",
      "|                                 88|     16|\n",
      "|                                 89|     15|\n",
      "|                                 91|     14|\n",
      "|                                 90|     14|\n",
      "|                                 92|     12|\n",
      "|                                101|     11|\n",
      "|                                 93|     11|\n",
      "|                                 94|     11|\n",
      "|                                 96|     11|\n",
      "|                                100|     11|\n",
      "|                                 97|     11|\n",
      "|                                 95|     11|\n",
      "+-----------------------------------+-------+\n",
      "only showing top 100 rows\n",
      "\n"
     ]
    }
   ],
   "source": [
    "# perf.filter(col('loan_id_old').isNotNull()).select(['loan_id','current_loan_delinquency_status', 'current_loan_delinquency_status_old']).where('current_loan_delinquency_status_match = 1').show()\n",
    "\n",
    "perf.filter(col('loan_id_old').isNotNull()).where('current_actual_upb_match = 0').groupBy('current_loan_delinquency_status').count().orderBy(col('count').desc()).show(100)\n",
    "perf.filter(col('loan_id_old').isNotNull()).where('current_actual_upb_match = 0').groupBy('current_loan_delinquency_status_old').count().orderBy(col('count').desc()).show(100)\n",
    "\n",
    "\n",
    "\n"
   ]
  },
  {
   "cell_type": "code",
   "execution_count": 53,
   "id": "8153bc9b",
   "metadata": {},
   "outputs": [
    {
     "name": "stdout",
     "output_type": "stream",
     "text": [
      "+------------------+-------+\n",
      "|current_actual_upb|  count|\n",
      "+------------------+-------+\n",
      "|               0.0|1714010|\n",
      "|          90030.94|     48|\n",
      "|           25033.5|     48|\n",
      "|          71420.72|     48|\n",
      "|          51680.83|     48|\n",
      "|          76854.25|     47|\n",
      "|          25271.94|     46|\n",
      "|          31133.19|     46|\n",
      "|          15677.21|     41|\n",
      "|          78752.51|     38|\n",
      "|          51327.72|     37|\n",
      "|           2733.17|     36|\n",
      "|           35716.3|     36|\n",
      "|          30892.68|     34|\n",
      "|           7390.59|     34|\n",
      "|          51309.33|     34|\n",
      "|          13779.16|     30|\n",
      "|          51225.44|     30|\n",
      "|          42694.05|     29|\n",
      "|          57977.99|     29|\n",
      "+------------------+-------+\n",
      "only showing top 20 rows\n",
      "\n"
     ]
    }
   ],
   "source": [
    "perf.filter('current_actual_upb_match = 1').select(['loan_id','current_actual_upb', 'current_actual_upb_old']).groupBy('current_actual_upb').count().orderBy(col('count').desc()).show()\n"
   ]
  },
  {
   "cell_type": "code",
   "execution_count": 16,
   "id": "95e40855",
   "metadata": {},
   "outputs": [
    {
     "name": "stdout",
     "output_type": "stream",
     "text": [
      "+----------------------+-------+\n",
      "|current_actual_upb_old|  count|\n",
      "+----------------------+-------+\n",
      "|                  null|1469726|\n",
      "|              253000.0|    128|\n",
      "|              240000.0|    124|\n",
      "|              100000.0|    121|\n",
      "|              200000.0|     75|\n",
      "|              150000.0|     74|\n",
      "|               50000.0|     70|\n",
      "|               60000.0|     65|\n",
      "|               80000.0|     65|\n",
      "|               70000.0|     64|\n",
      "|               85000.0|     60|\n",
      "|               75000.0|     57|\n",
      "|               90000.0|     56|\n",
      "|              140000.0|     55|\n",
      "|              110000.0|     50|\n",
      "|               30000.0|     47|\n",
      "|               40000.0|     46|\n",
      "|              125000.0|     46|\n",
      "|              120000.0|     45|\n",
      "|               65000.0|     43|\n",
      "+----------------------+-------+\n",
      "only showing top 20 rows\n",
      "\n"
     ]
    }
   ],
   "source": [
    "perf.filter('current_actual_upb_match = 1').select(['loan_id','current_actual_upb', 'current_actual_upb_old']).filter(\"current_actual_upb = 0.0\").groupBy('current_actual_upb_old').count().orderBy(col('count').desc()).show()\n",
    "\n",
    "\n",
    "\n",
    "\n"
   ]
  },
  {
   "cell_type": "code",
   "execution_count": 88,
   "id": "7edb2f24",
   "metadata": {},
   "outputs": [
    {
     "name": "stdout",
     "output_type": "stream",
     "text": [
      "+------------+------------------+----------------------+\n",
      "|     loan_id|current_actual_upb|current_actual_upb_old|\n",
      "+------------+------------------+----------------------+\n",
      "|263055415026|               0.0|                  null|\n",
      "|330414171561|               0.0|                  null|\n",
      "|294214882652|               0.0|                  null|\n",
      "|880810179517|               0.0|                  null|\n",
      "|918451611732|               0.0|                  null|\n",
      "|865382851209|               0.0|                  null|\n",
      "|918135573229|               0.0|                  null|\n",
      "|393422066928|               0.0|                  null|\n",
      "|430593550550|               0.0|                  null|\n",
      "|427943988327|               0.0|                  null|\n",
      "|387233861776|               0.0|                  null|\n",
      "|441755291071|               0.0|                  null|\n",
      "|430419305785|               0.0|                  null|\n",
      "|411039819128|               0.0|                  null|\n",
      "|553930052725|               0.0|                  null|\n",
      "|574744881831|               0.0|                  null|\n",
      "|520939041842|               0.0|                  null|\n",
      "|520954108646|               0.0|                  null|\n",
      "|567726939181|               0.0|                  null|\n",
      "|434680660019|               0.0|                  null|\n",
      "+------------+------------------+----------------------+\n",
      "only showing top 20 rows\n",
      "\n"
     ]
    }
   ],
   "source": [
    "perf.select(['loan_id','current_actual_upb', 'current_actual_upb_old']).where('current_actual_upb_match = 1').show()"
   ]
  },
  {
   "cell_type": "code",
   "execution_count": 89,
   "id": "bbcd779f",
   "metadata": {},
   "outputs": [
    {
     "data": {
      "text/plain": [
       "9189573"
      ]
     },
     "execution_count": 89,
     "metadata": {},
     "output_type": "execute_result"
    }
   ],
   "source": [
    "perf.count()"
   ]
  },
  {
   "cell_type": "code",
   "execution_count": 58,
   "id": "2df19439",
   "metadata": {},
   "outputs": [
    {
     "data": {
      "text/plain": [
       "339553"
      ]
     },
     "execution_count": 58,
     "metadata": {},
     "output_type": "execute_result"
    }
   ],
   "source": [
    "perf.filter(\"interest_rate_match = 1\").count()"
   ]
  },
  {
   "cell_type": "code",
   "execution_count": 59,
   "id": "ef93d02b",
   "metadata": {},
   "outputs": [
    {
     "data": {
      "text/plain": [
       "9189573"
      ]
     },
     "execution_count": 59,
     "metadata": {},
     "output_type": "execute_result"
    }
   ],
   "source": [
    "perfNew.count()"
   ]
  },
  {
   "cell_type": "code",
   "execution_count": 92,
   "id": "50062b99",
   "metadata": {},
   "outputs": [
    {
     "data": {
      "text/plain": [
       "9094679"
      ]
     },
     "execution_count": 92,
     "metadata": {},
     "output_type": "execute_result"
    }
   ],
   "source": [
    "perfOld.count()"
   ]
  },
  {
   "cell_type": "code",
   "execution_count": 61,
   "id": "32278b0c",
   "metadata": {},
   "outputs": [
    {
     "data": {
      "text/plain": [
       "True"
      ]
     },
     "execution_count": 61,
     "metadata": {},
     "output_type": "execute_result"
    }
   ],
   "source": [
    "acqNew.dtypes == acqOld.dtypes"
   ]
  },
  {
   "cell_type": "code",
   "execution_count": 62,
   "id": "7e2b2ca1",
   "metadata": {},
   "outputs": [],
   "source": [
    "for col in acqNew.columns:\n",
    "    acqOld = acqOld.withColumnRenamed(col, col + \"_old\")"
   ]
  },
  {
   "cell_type": "code",
   "execution_count": 64,
   "id": "18a6c615",
   "metadata": {},
   "outputs": [
    {
     "name": "stdout",
     "output_type": "stream",
     "text": [
      "+-----------+--------+\n",
      "|loan_id_old|count(1)|\n",
      "+-----------+--------+\n",
      "+-----------+--------+\n",
      "\n"
     ]
    }
   ],
   "source": [
    "acqOld.groupBy([\"loan_id_old\"]).agg(count(\"*\")).where(\"count(1) > 1\").show()"
   ]
  },
  {
   "cell_type": "code",
   "execution_count": 65,
   "id": "f8dc5e26",
   "metadata": {},
   "outputs": [],
   "source": [
    "acq = acqOld.join(acqNew, [acqOld[\"loan_id_old\"] == acqNew[\"loan_id\"]],\"right\")\n"
   ]
  },
  {
   "cell_type": "code",
   "execution_count": 67,
   "id": "1e6a2f90",
   "metadata": {},
   "outputs": [
    {
     "data": {
      "text/plain": [
       "246863"
      ]
     },
     "execution_count": 67,
     "metadata": {},
     "output_type": "execute_result"
    }
   ],
   "source": [
    "acq.count()"
   ]
  },
  {
   "cell_type": "code",
   "execution_count": 68,
   "id": "c0e019f1",
   "metadata": {},
   "outputs": [
    {
     "data": {
      "text/plain": [
       "246863"
      ]
     },
     "execution_count": 68,
     "metadata": {},
     "output_type": "execute_result"
    }
   ],
   "source": [
    "acqOld.count()"
   ]
  },
  {
   "cell_type": "code",
   "execution_count": 69,
   "id": "47c16d42",
   "metadata": {},
   "outputs": [
    {
     "data": {
      "text/plain": [
       "246863"
      ]
     },
     "execution_count": 69,
     "metadata": {},
     "output_type": "execute_result"
    }
   ],
   "source": [
    "acqNew.count()"
   ]
  },
  {
   "cell_type": "code",
   "execution_count": 80,
   "id": "be3ab8a1",
   "metadata": {},
   "outputs": [],
   "source": [
    "from pyspark.sql.functions import col\n",
    "for colN in acqNew.columns:\n",
    "    acq = acq.withColumn(colN + \"_match\", when( (col(colN).isNull() & col(colN + \"_old\").isNull())  | (col(colN) == col(colN + \"_old\")), 0).otherwise(1) )"
   ]
  },
  {
   "cell_type": "code",
   "execution_count": 81,
   "id": "04f9e21e",
   "metadata": {},
   "outputs": [
    {
     "name": "stdout",
     "output_type": "stream",
     "text": [
      "loan_id [Row(sum(loan_id_match)=0)]\n",
      "orig_channel [Row(sum(orig_channel_match)=0)]\n",
      "seller_name [Row(sum(seller_name_match)=0)]\n",
      "orig_interest_rate [Row(sum(orig_interest_rate_match)=0)]\n",
      "orig_upb [Row(sum(orig_upb_match)=0)]\n",
      "orig_loan_term [Row(sum(orig_loan_term_match)=0)]\n",
      "orig_date [Row(sum(orig_date_match)=0)]\n",
      "first_pay_date [Row(sum(first_pay_date_match)=0)]\n",
      "orig_ltv [Row(sum(orig_ltv_match)=0)]\n",
      "orig_cltv [Row(sum(orig_cltv_match)=0)]\n",
      "num_borrowers [Row(sum(num_borrowers_match)=0)]\n",
      "dti [Row(sum(dti_match)=0)]\n",
      "borrower_credit_score [Row(sum(borrower_credit_score_match)=0)]\n",
      "first_home_buyer [Row(sum(first_home_buyer_match)=331)]\n",
      "loan_purpose [Row(sum(loan_purpose_match)=0)]\n",
      "property_type [Row(sum(property_type_match)=49)]\n",
      "num_units [Row(sum(num_units_match)=0)]\n",
      "occupancy_status [Row(sum(occupancy_status_match)=0)]\n",
      "property_state [Row(sum(property_state_match)=0)]\n",
      "zip [Row(sum(zip_match)=0)]\n",
      "mortgage_insurance_percent [Row(sum(mortgage_insurance_percent_match)=0)]\n",
      "product_type [Row(sum(product_type_match)=0)]\n",
      "coborrow_credit_score [Row(sum(coborrow_credit_score_match)=0)]\n",
      "mortgage_insurance_type [Row(sum(mortgage_insurance_type_match)=0)]\n",
      "relocation_mortgage_indicator [Row(sum(relocation_mortgage_indicator_match)=0)]\n",
      "quarter [Row(sum(quarter_match)=0)]\n"
     ]
    }
   ],
   "source": [
    "for colN in acqNew.columns:\n",
    "    print(colN, acq.select(sum(colN + '_match')).collect())\n"
   ]
  },
  {
   "cell_type": "code",
   "execution_count": 90,
   "id": "181e8f20",
   "metadata": {},
   "outputs": [
    {
     "name": "stdout",
     "output_type": "stream",
     "text": [
      "+-------+--------------------------+------------------------------+\n",
      "|loan_id|mortgage_insurance_percent|mortgage_insurance_percent_old|\n",
      "+-------+--------------------------+------------------------------+\n",
      "+-------+--------------------------+------------------------------+\n",
      "\n"
     ]
    }
   ],
   "source": [
    "acq.select(['loan_id','mortgage_insurance_percent','mortgage_insurance_percent_old']).where('mortgage_insurance_percent_match = 1').show()"
   ]
  },
  {
   "cell_type": "code",
   "execution_count": null,
   "id": "f4d203a6",
   "metadata": {},
   "outputs": [],
   "source": []
  }
 ],
 "metadata": {
  "kernelspec": {
   "display_name": "Python 3",
   "language": "python",
   "name": "python3"
  },
  "language_info": {
   "codemirror_mode": {
    "name": "ipython",
    "version": 3
   },
   "file_extension": ".py",
   "mimetype": "text/x-python",
   "name": "python",
   "nbconvert_exporter": "python",
   "pygments_lexer": "ipython3",
   "version": "3.6.9"
  }
 },
 "nbformat": 4,
 "nbformat_minor": 5
}
